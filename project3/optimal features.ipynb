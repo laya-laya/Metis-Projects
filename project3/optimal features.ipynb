{
 "cells": [
  {
   "cell_type": "code",
   "execution_count": 1,
   "metadata": {},
   "outputs": [],
   "source": [
    "%matplotlib inline"
   ]
  },
  {
   "cell_type": "code",
   "execution_count": 2,
   "metadata": {},
   "outputs": [],
   "source": [
    "from bs4 import BeautifulSoup\n",
    "from collections import defaultdict, OrderedDict\n",
    "\n",
    "import numpy as np\n",
    "import pandas as pd\n",
    "\n",
    "from matplotlib import pyplot as plt\n",
    "import seaborn as sns\n",
    "\n",
    "from scipy.stats import pearsonr, spearmanr\n",
    "\n",
    "from sklearn.model_selection import train_test_split\n",
    "from sklearn.metrics import confusion_matrix, f1_score, recall_score, precision_score, roc_auc_score, plot_roc_curve\n",
    "from sklearn.linear_model import LogisticRegression\n",
    "from sklearn.preprocessing import StandardScaler\n",
    "from sklearn import svm\n",
    "from sklearn.neighbors import KNeighborsClassifier\n",
    "from sklearn.tree import DecisionTreeClassifier\n",
    "from sklearn.ensemble import RandomForestClassifier, GradientBoostingClassifier\n",
    "from sklearn.naive_bayes import GaussianNB\n",
    "from sklearn.neural_network import MLPClassifier\n",
    "from lightgbm import LGBMClassifier\n",
    "\n",
    "from imblearn.over_sampling import RandomOverSampler, ADASYN\n",
    "\n",
    "import os\n",
    "import re"
   ]
  },
  {
   "cell_type": "code",
   "execution_count": 3,
   "metadata": {},
   "outputs": [],
   "source": [
    "## Get metadata for each subject\n",
    "\n",
    "with open(\"cm_table.html\", \"r\") as f:\n",
    "    table = f.read()\n",
    "\n",
    "soup = BeautifulSoup(table, \"html.parser\")\n",
    "\n",
    "rows = soup.find_all(class_=\"powerTable\")[1].tbody.find_all(\"tr\")[3:523]\n",
    "\n",
    "cols = defaultdict(list)\n",
    "for row in rows:\n",
    "    text_list = list(row.stripped_strings)\n",
    "    if len(text_list) == 13:\n",
    "        text_list.insert(7, 'na') # insert so list is standard size when that column was empty on the webpage\n",
    "    cols[\"study\"].append(text_list[2])\n",
    "    cols[\"id\"].append(text_list[3].replace(\"_\", \"\"))\n",
    "    cols[\"age\"].append(float(text_list[8]))\n",
    "    cols[\"gender\"].append(text_list[10])\n",
    "    cols[\"label\"].append(text_list[11])\n",
    "\n",
    "metadata = pd.DataFrame(cols)"
   ]
  },
  {
   "cell_type": "code",
   "execution_count": 4,
   "metadata": {},
   "outputs": [
    {
     "data": {
      "text/html": [
       "<div>\n",
       "<style scoped>\n",
       "    .dataframe tbody tr th:only-of-type {\n",
       "        vertical-align: middle;\n",
       "    }\n",
       "\n",
       "    .dataframe tbody tr th {\n",
       "        vertical-align: top;\n",
       "    }\n",
       "\n",
       "    .dataframe thead th {\n",
       "        text-align: right;\n",
       "    }\n",
       "</style>\n",
       "<table border=\"1\" class=\"dataframe\">\n",
       "  <thead>\n",
       "    <tr style=\"text-align: right;\">\n",
       "      <th></th>\n",
       "      <th>study</th>\n",
       "      <th>id</th>\n",
       "      <th>age</th>\n",
       "      <th>gender</th>\n",
       "      <th>label</th>\n",
       "    </tr>\n",
       "  </thead>\n",
       "  <tbody>\n",
       "    <tr>\n",
       "      <th>0</th>\n",
       "      <td>ADHD200_CC200</td>\n",
       "      <td>KKI2371032</td>\n",
       "      <td>10.73</td>\n",
       "      <td>Female</td>\n",
       "      <td>Typically Developing</td>\n",
       "    </tr>\n",
       "    <tr>\n",
       "      <th>1</th>\n",
       "      <td>ADHD200_CC200</td>\n",
       "      <td>KKI2026113</td>\n",
       "      <td>12.99</td>\n",
       "      <td>Female</td>\n",
       "      <td>ADHD-Combined</td>\n",
       "    </tr>\n",
       "    <tr>\n",
       "      <th>2</th>\n",
       "      <td>ADHD200_CC200</td>\n",
       "      <td>KKI3434578</td>\n",
       "      <td>8.12</td>\n",
       "      <td>Female</td>\n",
       "      <td>Typically Developing</td>\n",
       "    </tr>\n",
       "    <tr>\n",
       "      <th>3</th>\n",
       "      <td>ADHD200_CC200</td>\n",
       "      <td>KKI8628223</td>\n",
       "      <td>10.81</td>\n",
       "      <td>Female</td>\n",
       "      <td>Typically Developing</td>\n",
       "    </tr>\n",
       "    <tr>\n",
       "      <th>4</th>\n",
       "      <td>ADHD200_CC200</td>\n",
       "      <td>KKI1623716</td>\n",
       "      <td>12.65</td>\n",
       "      <td>Female</td>\n",
       "      <td>ADHD-Combined</td>\n",
       "    </tr>\n",
       "    <tr>\n",
       "      <th>...</th>\n",
       "      <td>...</td>\n",
       "      <td>...</td>\n",
       "      <td>...</td>\n",
       "      <td>...</td>\n",
       "      <td>...</td>\n",
       "    </tr>\n",
       "    <tr>\n",
       "      <th>515</th>\n",
       "      <td>ADHD200_CC200</td>\n",
       "      <td>Pittsburgh0016081</td>\n",
       "      <td>18.81</td>\n",
       "      <td>Male</td>\n",
       "      <td>Typically Developing</td>\n",
       "    </tr>\n",
       "    <tr>\n",
       "      <th>516</th>\n",
       "      <td>ADHD200_CC200</td>\n",
       "      <td>Pittsburgh0016032</td>\n",
       "      <td>13.65</td>\n",
       "      <td>Female</td>\n",
       "      <td>Typically Developing</td>\n",
       "    </tr>\n",
       "    <tr>\n",
       "      <th>517</th>\n",
       "      <td>ADHD200_CC200</td>\n",
       "      <td>Pittsburgh0016057</td>\n",
       "      <td>16.74</td>\n",
       "      <td>Female</td>\n",
       "      <td>Typically Developing</td>\n",
       "    </tr>\n",
       "    <tr>\n",
       "      <th>518</th>\n",
       "      <td>ADHD200_CC200</td>\n",
       "      <td>Pittsburgh0016035</td>\n",
       "      <td>13.94</td>\n",
       "      <td>Male</td>\n",
       "      <td>Typically Developing</td>\n",
       "    </tr>\n",
       "    <tr>\n",
       "      <th>519</th>\n",
       "      <td>ADHD200_CC200</td>\n",
       "      <td>Pittsburgh0016002</td>\n",
       "      <td>10.16</td>\n",
       "      <td>Female</td>\n",
       "      <td>Typically Developing</td>\n",
       "    </tr>\n",
       "  </tbody>\n",
       "</table>\n",
       "<p>520 rows × 5 columns</p>\n",
       "</div>"
      ],
      "text/plain": [
       "             study                 id    age  gender                 label\n",
       "0    ADHD200_CC200         KKI2371032  10.73  Female  Typically Developing\n",
       "1    ADHD200_CC200         KKI2026113  12.99  Female         ADHD-Combined\n",
       "2    ADHD200_CC200         KKI3434578   8.12  Female  Typically Developing\n",
       "3    ADHD200_CC200         KKI8628223  10.81  Female  Typically Developing\n",
       "4    ADHD200_CC200         KKI1623716  12.65  Female         ADHD-Combined\n",
       "..             ...                ...    ...     ...                   ...\n",
       "515  ADHD200_CC200  Pittsburgh0016081  18.81    Male  Typically Developing\n",
       "516  ADHD200_CC200  Pittsburgh0016032  13.65  Female  Typically Developing\n",
       "517  ADHD200_CC200  Pittsburgh0016057  16.74  Female  Typically Developing\n",
       "518  ADHD200_CC200  Pittsburgh0016035  13.94    Male  Typically Developing\n",
       "519  ADHD200_CC200  Pittsburgh0016002  10.16  Female  Typically Developing\n",
       "\n",
       "[520 rows x 5 columns]"
      ]
     },
     "execution_count": 4,
     "metadata": {},
     "output_type": "execute_result"
    }
   ],
   "source": [
    "metadata"
   ]
  },
  {
   "cell_type": "markdown",
   "metadata": {},
   "source": [
    "## Load the connectivity matrices"
   ]
  },
  {
   "cell_type": "code",
   "execution_count": 5,
   "metadata": {},
   "outputs": [],
   "source": [
    "def get_conn_matrices():\n",
    "    file_names = os.listdir(\"data/ADHD200_CC200\")\n",
    "\n",
    "    cm_file_re = r\"^\\S+connectivity_matrix_file\\.txt$\"\n",
    "\n",
    "    conn_matrices = OrderedDict()\n",
    "    for file_name in file_names:\n",
    "        if re.match(cm_file_re, file_name):\n",
    "            id_ = \"\".join(file_name.split(\"_\")[:-3])\n",
    "        \n",
    "            cm = np.empty((190,190))\n",
    "            with open(\"data/ADHD200_CC200/{}\".format(file_name)) as f:\n",
    "                for idx, row in enumerate(f):\n",
    "                    row = row.strip().split(\" \")\n",
    "                    row = list(map(np.float, row))\n",
    "                    cm[idx, :] = row\n",
    "        \n",
    "            conn_matrices[id_] = cm\n",
    "    return conn_matrices"
   ]
  },
  {
   "cell_type": "code",
   "execution_count": 6,
   "metadata": {},
   "outputs": [],
   "source": [
    "def get_regions():\n",
    "    \"\"\"\n",
    "    Gets the names of the regions (in order of appearance in connectivity matrix). \n",
    "    All files have the same order of regions, so we only to need to get this once.\n",
    "    Some region names are repeated because there are multiple points within that region,\n",
    "        so numbers are appended to the region names to distinguish them.\n",
    "    \n",
    "    returns a list of strings\n",
    "    \"\"\"\n",
    "    regions_path = \"data/ADHD200_CC200/KKI_1018959_region_names_full_file.txt\"\n",
    "    regions = []\n",
    "    with open(regions_path, \"r\") as f:\n",
    "        regions = [region.strip().replace(\" \", \"_\") for region in f]\n",
    "    names = defaultdict(int)\n",
    "    distinct_region_names = []\n",
    "    for region in regions:\n",
    "        distinct_region_names.append(region+\"_\"+str(names[region]))\n",
    "        names[region] += 1\n",
    "    return distinct_region_names"
   ]
  },
  {
   "cell_type": "code",
   "execution_count": 7,
   "metadata": {},
   "outputs": [],
   "source": [
    "region_names = get_regions()\n",
    "\n",
    "conn_matrices = get_conn_matrices()"
   ]
  },
  {
   "cell_type": "markdown",
   "metadata": {},
   "source": [
    "## data prep"
   ]
  },
  {
   "cell_type": "code",
   "execution_count": 8,
   "metadata": {},
   "outputs": [],
   "source": [
    "def flatten_conn_matrices(conn_matrices_dict, region_names):\n",
    "    \"\"\"\n",
    "    Flatten a cm dictionary (mapping subjects to connectivity matrices), such that each unique value in the\n",
    "        connectivity matrix is a column feature in a row.\n",
    "    Returns: 1) a numpy array where each row represents a subject with each column a feature;\n",
    "             2) a list of the subject ids in the order they appear in the feature array;\n",
    "             3) a list of the feature names in the order they appear in the feature array.\n",
    "    The subjects list holds the row labels, feature_names list holds column labels.\n",
    "    \"\"\"\n",
    "    subjects = list(conn_matrices_dict.keys())\n",
    "    num_rows = len(subjects)\n",
    "    features = np.empty((num_rows, 17955))\n",
    "    \n",
    "    # adjacency matrices have duplicate values, only need values from half of the matrix (and don't need diagonal)\n",
    "    # np.tril_indices() returns indices of unique values\n",
    "    row_idxs, col_idxs = np.tril_indices(190, k=-1)\n",
    "    for idx, subject in enumerate(subjects):\n",
    "        cm = conn_matrices_dict[subject]\n",
    "        row = np.array([cm[row_idx, col_idx] for row_idx, col_idx in zip(row_idxs, col_idxs)])\n",
    "        features[idx, :] = row\n",
    "    \n",
    "    feature_names = [region_names[row_idx]+\"_to_\"+region_names[col_idx] \n",
    "                     for row_idx, col_idx in zip(row_idxs, col_idxs)]\n",
    "    \n",
    "    return features, subjects, feature_names"
   ]
  },
  {
   "cell_type": "code",
   "execution_count": 9,
   "metadata": {},
   "outputs": [],
   "source": [
    "features, subjects, feature_names = flatten_conn_matrices(conn_matrices, region_names)"
   ]
  },
  {
   "cell_type": "code",
   "execution_count": 10,
   "metadata": {},
   "outputs": [],
   "source": [
    "# free up some memory\n",
    "del conn_matrices"
   ]
  },
  {
   "cell_type": "code",
   "execution_count": 11,
   "metadata": {},
   "outputs": [],
   "source": [
    "def sort_metadata(metadata, subjects):\n",
    "    \"\"\"\n",
    "    Sorts a metadata dataframe so that the order is the same as the order of subjects in the subjects list.\n",
    "    :arg metadata: dataframe with ADHD200 metadata\n",
    "    :arg subjects: a list of subjects of specific order\n",
    "    \"\"\"\n",
    "    metadata_ids = metadata[\"id\"].values\n",
    "    subjects_order_in_metadata = [np.where(metadata_ids==subject)[0][0] for subject in subjects]\n",
    "    metadata_subject_sort = metadata.iloc[subjects_order_in_metadata, :]\n",
    "    return metadata_subject_sort"
   ]
  },
  {
   "cell_type": "code",
   "execution_count": 12,
   "metadata": {},
   "outputs": [],
   "source": [
    "# sort the metadata so that the order is the same as in the feature matrix\n",
    "metadata_sorted = sort_metadata(metadata, subjects)\n",
    "adhd = [0 if label == \"Typically Developing\" else 1 for label in metadata_sorted[\"label\"]]\n",
    "metadata_sorted = metadata_sorted.assign(adhd=adhd)"
   ]
  },
  {
   "cell_type": "code",
   "execution_count": 13,
   "metadata": {},
   "outputs": [],
   "source": [
    "def most_correlated_features(features, metadata, feature_names, p_val=.01):\n",
    "    \"\"\"\n",
    "    returns a DataFrame with a subset of the features which have a correlation p value less than the specified cutoff\n",
    "    :arg features: numpy feature matrix, sorted in the same order as the metadata.\n",
    "    :arg target: DataFrame with target and ids, sorted in the same order as the feature matrix.\n",
    "    :arg feature_names: the names of the features in the feature matrix, same order.\n",
    "    :arg p_val: the maximum p value for a feature to be included.\n",
    "    \"\"\"\n",
    "    # get the p values for correlations. lower is better!\n",
    "    target=metadata[\"adhd\"] \n",
    "    correlation_p_vals = np.array([pearsonr(features[:,col], target)[1] for col in range(features.shape[1])])\n",
    "    # get the order of columns which are most correlated with having adhd\n",
    "    corr_p_vals_argsort = correlation_p_vals.argsort()\n",
    "    # the number of features with correlation p values less than the cutoff\n",
    "    num_features = np.count_nonzero(correlation_p_vals < p_val)\n",
    "    # get the indices of features of features with p vals less than the cutoff\n",
    "    most_correlated = corr_p_vals_argsort[:num_features]\n",
    "    \n",
    "    features_most_correlated = features[:, most_correlated]\n",
    "    feature_names_most_correlated = [feature_names[idx] for idx in most_correlated]\n",
    "    \n",
    "    # make features dataframe with the smaller features\n",
    "    X = pd.DataFrame(features_most_correlated, columns=feature_names_most_correlated)\n",
    "    X = X.assign(adhd=target.values)\n",
    "    X = X.assign(id=metadata[\"id\"].values)\n",
    "    X = X.assign(gender=metadata[\"gender\"].values)\n",
    "    X = X.assign(gender=pd.get_dummies(X[\"gender\"], drop_first=True)[\"Male\"])\n",
    "    X = X.assign(age=metadata[\"age\"].values)\n",
    "    cols = list(X.columns)\n",
    "    col_order = [cols[-3]] + [cols[-4]] + [cols[-1]] + [cols[-2]] + cols[:-4]\n",
    "    X = X[col_order]\n",
    "    \n",
    "    return X"
   ]
  },
  {
   "cell_type": "code",
   "execution_count": 14,
   "metadata": {},
   "outputs": [],
   "source": [
    "def subset_train_test(p_val, features=features, metadata_sorted=metadata_sorted, \n",
    "           feature_names=feature_names, oversample=True, scale=False):\n",
    "    \n",
    "    X = most_correlated_features(features, metadata_sorted, feature_names, p_val=p_val)\n",
    "    \n",
    "    print(X.shape[1], \"features remaining\")\n",
    "    \n",
    "    y = X[\"adhd\"]\n",
    "    X = X.drop(columns=[\"adhd\", \"id\"])\n",
    "    \n",
    "    X_train, X_test, y_train, y_test = train_test_split(X, y, test_size=.2, random_state=2)\n",
    "    \n",
    "    # standard scale the data\n",
    "    if scale:\n",
    "        scaler = StandardScaler().fit(X_train)\n",
    "        X_train = scaler.transform(X_train)\n",
    "        X_test = scaler.transform(X_test)\n",
    "    \n",
    "    if oversample:\n",
    "        X_train, y_train = RandomOverSampler(random_state=0).fit_sample(X_train, y_train)\n",
    "    \n",
    "    return (X_train, X_test, y_train, y_test)"
   ]
  },
  {
   "cell_type": "markdown",
   "metadata": {},
   "source": [
    "## Test different correlation p value cutoffs\n",
    "Using a lower p value cutoff will get a smaller subset of the features."
   ]
  },
  {
   "cell_type": "code",
   "execution_count": 15,
   "metadata": {},
   "outputs": [],
   "source": [
    "def train_score(p_val, model, oversample=True):\n",
    "    X_train, X_test, y_train, y_test = subset_train_test(p_val, oversample=True)\n",
    "    \n",
    "    model.fit(X_train, y_train)\n",
    "    \n",
    "    preds = model.predict(X_test)\n",
    "    \n",
    "    train_acc = model.score(X_train, y_train)\n",
    "    test_acc = model.score(X_test, y_test)\n",
    "    \n",
    "    conf_mat = confusion_matrix(y_test, preds)\n",
    "    f1 = f1_score(y_test, preds)\n",
    "    precision = precision_score(y_test, preds)\n",
    "    recall = recall_score(y_test, preds)\n",
    "    roc_auc = roc_auc_score(y_test, preds)\n",
    "    \n",
    "    print(\"p cutoff:\", p)\n",
    "    print(\"train accuracy: {:.3f}\".format(train_acc))\n",
    "    print(\"test accuracy: {:.3f}\\n\".format(test_acc))\n",
    "    print(\"ROC AUC: {:.3f}\".format(roc_auc))\n",
    "    print(\"precision score: {:.3f}\".format(precision))\n",
    "    print(\"recall score: {:.3f}\".format(recall))\n",
    "    print(conf_mat)\n",
    "    print(\"-----------------------------\")\n",
    "    \n",
    "    return model, X_train.columns"
   ]
  },
  {
   "cell_type": "code",
   "execution_count": 16,
   "metadata": {},
   "outputs": [
    {
     "name": "stdout",
     "output_type": "stream",
     "text": [
      "570 features remaining\n",
      "p cutoff: 0.01\n",
      "train accuracy: 0.805\n",
      "test accuracy: 0.731\n",
      "\n",
      "ROC AUC: 0.715\n",
      "precision score: 0.625\n",
      "recall score: 0.658\n",
      "[[51 15]\n",
      " [13 25]]\n",
      "-----------------------------\n",
      "355 features remaining\n",
      "p cutoff: 0.005\n",
      "train accuracy: 0.790\n",
      "test accuracy: 0.760\n",
      "\n",
      "ROC AUC: 0.749\n",
      "precision score: 0.659\n",
      "recall score: 0.711\n",
      "[[52 14]\n",
      " [11 27]]\n",
      "-----------------------------\n",
      "117 features remaining\n",
      "p cutoff: 0.001\n",
      "train accuracy: 0.763\n",
      "test accuracy: 0.712\n",
      "\n",
      "ROC AUC: 0.695\n",
      "precision score: 0.600\n",
      "recall score: 0.632\n",
      "[[50 16]\n",
      " [14 24]]\n",
      "-----------------------------\n",
      "82 features remaining\n",
      "p cutoff: 0.0005\n",
      "train accuracy: 0.759\n",
      "test accuracy: 0.740\n",
      "\n",
      "ROC AUC: 0.723\n",
      "precision score: 0.641\n",
      "recall score: 0.658\n",
      "[[52 14]\n",
      " [13 25]]\n",
      "-----------------------------\n",
      "30 features remaining\n",
      "p cutoff: 0.0001\n",
      "train accuracy: 0.769\n",
      "test accuracy: 0.692\n",
      "\n",
      "ROC AUC: 0.668\n",
      "precision score: 0.579\n",
      "recall score: 0.579\n",
      "[[50 16]\n",
      " [16 22]]\n",
      "-----------------------------\n",
      "18 features remaining\n",
      "p cutoff: 5e-05\n",
      "train accuracy: 0.735\n",
      "test accuracy: 0.663\n",
      "\n",
      "ROC AUC: 0.640\n",
      "precision score: 0.538\n",
      "recall score: 0.553\n",
      "[[48 18]\n",
      " [17 21]]\n",
      "-----------------------------\n",
      "9 features remaining\n",
      "p cutoff: 1e-05\n",
      "train accuracy: 0.663\n",
      "test accuracy: 0.654\n",
      "\n",
      "ROC AUC: 0.632\n",
      "precision score: 0.525\n",
      "recall score: 0.553\n",
      "[[47 19]\n",
      " [17 21]]\n",
      "-----------------------------\n",
      "5 features remaining\n",
      "p cutoff: 5e-06\n",
      "train accuracy: 0.669\n",
      "test accuracy: 0.577\n",
      "\n",
      "ROC AUC: 0.577\n",
      "precision score: 0.440\n",
      "recall score: 0.579\n",
      "[[38 28]\n",
      " [16 22]]\n",
      "-----------------------------\n"
     ]
    }
   ],
   "source": [
    "p_vals = [.01, .005, .001, .0005, .0001, .00005, .00001, .000005]\n",
    "for p in p_vals:\n",
    "    train_score(p, GaussianNB())"
   ]
  },
  {
   "cell_type": "code",
   "execution_count": 17,
   "metadata": {},
   "outputs": [
    {
     "name": "stdout",
     "output_type": "stream",
     "text": [
      "9 features remaining\n",
      "p cutoff: 5e-06\n",
      "train accuracy: 1.000\n",
      "test accuracy: 0.625\n",
      "\n",
      "ROC AUC: 0.582\n",
      "precision score: 0.485\n",
      "recall score: 0.421\n",
      "[[49 17]\n",
      " [22 16]]\n",
      "-----------------------------\n"
     ]
    },
    {
     "data": {
      "image/png": "[encoded data removed]",
      "text/plain": [
       "<Figure size 1080x576 with 1 Axes>"
      ]
     },
     "metadata": {
      "needs_background": "light"
     },
     "output_type": "display_data"
    }
   ],
   "source": [
    "m, cols = train_score(.00001, RandomForestClassifier())\n",
    "\n",
    "feature_importances = m.feature_importances_\n",
    "cols = cols.values\n",
    "\n",
    "feature_importances\n",
    "\n",
    "order = (-feature_importances).argsort()\n",
    "\n",
    "plt.figure(figsize=(15,8))\n",
    "plt.bar(cols[order], feature_importances[order])\n",
    "plt.xticks(rotation=75);"
   ]
  },
  {
   "cell_type": "code",
   "execution_count": 23,
   "metadata": {},
   "outputs": [
    {
     "name": "stdout",
     "output_type": "stream",
     "text": [
      "355 features remaining\n"
     ]
    }
   ],
   "source": [
    "X_train, X_test, y_train, y_test = subset_train_test(.005, oversample=True)"
   ]
  },
  {
   "cell_type": "code",
   "execution_count": 24,
   "metadata": {},
   "outputs": [
    {
     "name": "stdout",
     "output_type": "stream",
     "text": [
      "0.7492025518341308\n"
     ]
    },
    {
     "data": {
      "image/png": "[encoded data removed]",
      "text/plain": [
       "<Figure size 432x288 with 1 Axes>"
      ]
     },
     "metadata": {
      "needs_background": "light"
     },
     "output_type": "display_data"
    }
   ],
   "source": [
    "model = GaussianNB().fit(X_train, y_train)\n",
    "print(roc_auc_score(y_test, model.predict(X_test)))\n",
    "plot_roc_curve(model, X_test, y_test);"
   ]
  },
  {
   "cell_type": "code",
   "execution_count": null,
   "metadata": {},
   "outputs": [],
   "source": []
  },
  {
   "cell_type": "code",
   "execution_count": null,
   "metadata": {},
   "outputs": [],
   "source": []
  },
  {
   "cell_type": "code",
   "execution_count": null,
   "metadata": {},
   "outputs": [],
   "source": []
  }
 ],
 "metadata": {
  "kernelspec": {
   "display_name": "Python 3",
   "language": "python",
   "name": "python3"
  },
  "language_info": {
   "codemirror_mode": {
    "name": "ipython",
    "version": 3
   },
   "file_extension": ".py",
   "mimetype": "text/x-python",
   "name": "python",
   "nbconvert_exporter": "python",
   "pygments_lexer": "ipython3",
   "version": "3.7.6"
  }
 },
 "nbformat": 4,
 "nbformat_minor": 4
}
