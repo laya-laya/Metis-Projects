{
 "cells": [
  {
   "cell_type": "markdown",
   "metadata": {},
   "source": [
    "# Disease-Gene Association Prediction\n",
    "\n",
    "Disease-gene association prediction can be formulated as a link prediction problem on a graph. I use the PyTorch Geometric (PyG) package to perform link prediction using a graph neural network.\n",
    "\n",
    "Adapted from the PyTorch Geometric [link prediction example](https://github.com/rusty1s/pytorch_geometric/blob/master/examples/link_pred.py)."
   ]
  },
  {
   "cell_type": "code",
   "execution_count": 2,
   "metadata": {},
   "outputs": [],
   "source": [
    "import numpy as np\n",
    "import networkx as nx\n",
    "import pandas as pd\n",
    "\n",
    "import random\n",
    "\n",
    "from sklearn.metrics import roc_auc_score, precision_score, recall_score, confusion_matrix, f1_score\n",
    "\n",
    "import torch\n",
    "import torch_geometric\n",
    "import torch.nn.functional as F\n",
    "import torch_geometric.transforms as T\n",
    "from torch_geometric.nn import GCNConv, GAE, VGAE\n",
    "from torch_geometric.utils import train_test_split_edges, from_networkx, negative_sampling, remove_self_loops,\\\n",
    "    add_self_loops, to_undirected, dropout_adj\n",
    "\n",
    "from matplotlib import pyplot as plt\n",
    "import seaborn as sns"
   ]
  },
  {
   "cell_type": "markdown",
   "metadata": {},
   "source": [
    "## Data loading"
   ]
  },
  {
   "cell_type": "code",
   "execution_count": 3,
   "metadata": {},
   "outputs": [],
   "source": [
    "G_disease_gene = nx.read_gpickle(\"data/disease_gene_graph.pkl\")\n",
    "G_disease = nx.read_gpickle(\"data/disease_graph.pkl\")\n",
    "G_gene = nx.read_gpickle(\"data/gene_graph.pkl\")"
   ]
  },
  {
   "cell_type": "code",
   "execution_count": 4,
   "metadata": {},
   "outputs": [],
   "source": [
    "def my_from_networkx(G):\n",
    "    \"\"\"\n",
    "    Edited version so that the node labels aren't changed.\n",
    "    \n",
    "    Converts a :obj:`networkx.Graph` or :obj:`networkx.DiGraph` to a\n",
    "    :class:`torch_geometric.data.Data` instance.\n",
    "\n",
    "    Args:\n",
    "        G (networkx.Graph or networkx.DiGraph): A networkx graph.\n",
    "    \"\"\"\n",
    "\n",
    "    # G = nx.convert_node_labels_to_integers(G)\n",
    "    G = G.to_directed() if not nx.is_directed(G) else G\n",
    "    edge_index = torch.tensor(list(G.edges)).t().contiguous()\n",
    "\n",
    "    data = {}\n",
    "\n",
    "    for i, (_, feat_dict) in enumerate(G.nodes(data=True)):\n",
    "        for key, value in feat_dict.items():\n",
    "            data[key] = [value] if i == 0 else data[key] + [value]\n",
    "\n",
    "    for i, (_, _, feat_dict) in enumerate(G.edges(data=True)):\n",
    "        for key, value in feat_dict.items():\n",
    "            data[key] = [value] if i == 0 else data[key] + [value]\n",
    "\n",
    "    for key, item in data.items():\n",
    "        try:\n",
    "            data[key] = torch.tensor(item)\n",
    "        except ValueError:\n",
    "            pass\n",
    "\n",
    "    data['edge_index'] = edge_index.view(2, -1)\n",
    "    data = torch_geometric.data.Data.from_dict(data)\n",
    "    data.num_nodes = G.number_of_nodes()\n",
    "\n",
    "    return data"
   ]
  },
  {
   "cell_type": "code",
   "execution_count": 5,
   "metadata": {},
   "outputs": [],
   "source": [
    "def edges_in_G(G, edge_index):\n",
    "    \"\"\"\n",
    "    Checks if each of the edges in an edge index are in the graph G\n",
    "    Returns a tuple where the first element is the number of edges found in G,\n",
    "        and the second element is the number of edges that were not found in G.\n",
    "    \"\"\"\n",
    "    G = nx.to_directed(G)\n",
    "    in_G = not_in_G = 0\n",
    "    for n1, n2 in zip(edge_index.numpy()[0], edge_index.numpy()[1]):\n",
    "        if (n1, n2) in G.edges():\n",
    "            in_G += 1\n",
    "        else:\n",
    "            not_in_G += 1\n",
    "\n",
    "    return(in_G, not_in_G)"
   ]
  },
  {
   "cell_type": "code",
   "execution_count": 6,
   "metadata": {},
   "outputs": [
    {
     "data": {
      "text/plain": [
       "(42714, 0)"
      ]
     },
     "execution_count": 6,
     "metadata": {},
     "output_type": "execute_result"
    }
   ],
   "source": [
    "disease_gene_data = my_from_networkx(G_disease_gene)\n",
    "disease_gene_edge_index = disease_gene_data.edge_index\n",
    "edges_in_G(G_disease_gene, disease_gene_data.edge_index) # make sure node labels in edge_index are the same as in G"
   ]
  },
  {
   "cell_type": "code",
   "execution_count": 7,
   "metadata": {},
   "outputs": [
    {
     "data": {
      "text/plain": [
       "(163, 0)"
      ]
     },
     "execution_count": 7,
     "metadata": {},
     "output_type": "execute_result"
    }
   ],
   "source": [
    "disease_data = my_from_networkx(G_disease)\n",
    "edges_in_G(G_disease, disease_data.edge_index) # make sure node labels in edge_index are the same as in G"
   ]
  },
  {
   "cell_type": "code",
   "execution_count": 8,
   "metadata": {},
   "outputs": [
    {
     "data": {
      "text/plain": [
       "(263018, 0)"
      ]
     },
     "execution_count": 8,
     "metadata": {},
     "output_type": "execute_result"
    }
   ],
   "source": [
    "gene_data = my_from_networkx(G_gene)\n",
    "edges_in_G(G_gene, gene_data.edge_index) # make sure node labels in edge_index are the same as in G"
   ]
  },
  {
   "cell_type": "markdown",
   "metadata": {},
   "source": [
    "## Train test split\n",
    "Only the disease-gene edges are split, because these are the edges we are predicting. The other edges (disease-disease and gene-gene) are basically features that are used in every training and prediction."
   ]
  },
  {
   "cell_type": "code",
   "execution_count": 9,
   "metadata": {},
   "outputs": [],
   "source": [
    "def my_train_test_split_edges(data, disease_nodes, gene_nodes, val_ratio=0.05, test_ratio=0.1):\n",
    "    \"\"\"\n",
    "    Adapted from the PyTorch Geometric version here:\n",
    "    https://pytorch-geometric.readthedocs.io/en/latest/_modules/torch_geometric/utils/train_test_split_edges.html#train_test_split_edges\n",
    "    This version is specific to my dataset, and differs in that it only samples negative \n",
    "    and positive edges from a subset of all edges: the disease-gene edges.\n",
    "    \n",
    "    Splits the edges of a torch_geometric.data.Data object\n",
    "    into positive and negative train/val/test edges, and adds attributes of\n",
    "    `train_pos_edge_index`, `train_neg_adj_mask`, `val_pos_edge_index`,\n",
    "    `val_neg_edge_index`, `test_pos_edge_index`, and `test_neg_edge_index`\n",
    "    to `data`.\n",
    "\n",
    "    Args:\n",
    "        data (Data): The data object.\n",
    "        edge_set: a set of the relevant edges in the graph\n",
    "        disease_nodes: a list of all disease node ids\n",
    "        gene_nodes: a list of all gene node ids\n",
    "        val_ratio (float, optional): The ratio of positive validation\n",
    "            edges. (default: :obj:`0.05`)\n",
    "        test_ratio (float, optional): The ratio of positive test\n",
    "            edges. (default: :obj:`0.1`)\n",
    "    \"\"\"\n",
    "\n",
    "    num_nodes = data.num_nodes\n",
    "    row, col = data.edge_index\n",
    "    data.edge_index = None\n",
    "\n",
    "    # Return upper triangular portion.\n",
    "    mask = row < col\n",
    "    row, col = row[mask], col[mask]\n",
    "\n",
    "    n_v = int(np.floor(val_ratio * row.size(0)))\n",
    "    n_t = int(np.floor(test_ratio * row.size(0)))\n",
    "\n",
    "    # Positive edges.\n",
    "    perm = torch.randperm(row.size(0))\n",
    "    row, col = row[perm], col[perm]\n",
    "\n",
    "    r, c = row[:n_v], col[:n_v]\n",
    "    data.val_pos_edge_index = torch.stack([r, c], dim=0)\n",
    "    r, c = row[n_v:n_v + n_t], col[n_v:n_v + n_t]\n",
    "    data.test_pos_edge_index = torch.stack([r, c], dim=0)\n",
    "\n",
    "    r, c = row[n_v + n_t:], col[n_v + n_t:]\n",
    "    data.train_pos_edge_index = torch.stack([r, c], dim=0)\n",
    "    data.train_pos_edge_index = to_undirected(data.train_pos_edge_index)\n",
    "\n",
    "    # Negative edges. only sample negative edges from disease -> gene space.\n",
    "    neg_adj_mask = torch.ones(len(disease_nodes), len(gene_nodes)+len(disease_nodes), dtype=torch.uint8).to(torch.bool)\n",
    "    neg_adj_mask[row, col] = 0 # remove positive edges\n",
    "    neg_adj_mask[0:len(disease_nodes), 0:len(disease_nodes)] = 0 # remove possible disease-disease links (gene-gene already not present)\n",
    "\n",
    "    neg_row, neg_col = neg_adj_mask.nonzero().t()\n",
    "    perm = random.sample(range(neg_row.size(0)), min(n_v + n_t, neg_row.size(0)))\n",
    "    perm = torch.tensor(perm)\n",
    "    perm = perm.to(torch.long)\n",
    "    neg_row, neg_col = neg_row[perm], neg_col[perm]\n",
    "\n",
    "    neg_adj_mask[neg_row, neg_col] = 0\n",
    "    data.train_neg_adj_mask = neg_adj_mask\n",
    "\n",
    "    row, col = neg_row[:n_v], neg_col[:n_v]\n",
    "    data.val_neg_edge_index = torch.stack([row, col], dim=0)\n",
    "\n",
    "    row, col = neg_row[n_v:n_v + n_t], neg_col[n_v:n_v + n_t]\n",
    "    data.test_neg_edge_index = torch.stack([row, col], dim=0)\n",
    "\n",
    "    return data"
   ]
  },
  {
   "cell_type": "code",
   "execution_count": 10,
   "metadata": {},
   "outputs": [],
   "source": [
    "# load the disease and gene dfs\n",
    "diseases = pd.read_pickle(\"data/diseases_df.pkl\")\n",
    "genes = pd.read_pickle(\"data/genes_df.pkl\")\n",
    "\n",
    "# get lists of the disease node ids and gene node ids\n",
    "disease_nodes = diseases[\"disease_node_id\"].values\n",
    "gene_nodes = genes[\"gene_node_id\"].values"
   ]
  },
  {
   "cell_type": "code",
   "execution_count": 11,
   "metadata": {},
   "outputs": [],
   "source": [
    "# train test split\n",
    "disease_gene_data.train_mask = disease_gene_data.val_mask = disease_gene_data.test_mask = disease_gene_data.y = None\n",
    "disease_gene_data = my_train_test_split_edges(disease_gene_data, disease_nodes, gene_nodes)"
   ]
  },
  {
   "cell_type": "markdown",
   "metadata": {},
   "source": [
    "## Graph network definition\n",
    "\n",
    "Graph networks are similar to convolutional neural networks, except that they convolve over a graph rather than an image. Multiple graph convolutional layers are stacked on top of each other to pull in info from further away in the graph.\n",
    "\n",
    "The diseases and genes have different numbers of features so they each get there own layer at the start of the network (bringing them to the same latent size), after which they are merged.\n",
    "\n",
    "Another note: no matter what edge index is passed into the model, the disease-gene training edge index is used to propogate features between diseases and genes, and every disease-disease edge and gene-gene edge are used to propogate features as well. The edge index that is passed into the model is only used to select which of the node embeddings are relevant for computing the specified output. I mention this just to help clarify which edges are used when and where."
   ]
  },
  {
   "cell_type": "code",
   "execution_count": 12,
   "metadata": {},
   "outputs": [],
   "source": [
    "num_disease_features = disease_data.num_features # 1124\n",
    "num_gene_features = gene_data.num_features # 8769\n",
    "\n",
    "class Net(torch.nn.Module):\n",
    "    def __init__(self):\n",
    "        super(Net, self).__init__()\n",
    "        self.disease_conv = GCNConv(num_disease_features, 128)\n",
    "        \n",
    "        self.gene_conv = GCNConv(num_gene_features, 128)\n",
    "        \n",
    "        self.conv2 = GCNConv(128, 64)\n",
    "        self.conv3 = GCNConv(64, 32)\n",
    "\n",
    "    def forward(self, pos_edge_index, neg_edge_index=[], predict=False):\n",
    "        x_disease = F.relu(self.disease_conv(disease_data.x, disease_data.edge_index))\n",
    "        \n",
    "        x_gene = F.relu(self.gene_conv(gene_data.x, disease_data.edge_index))\n",
    "\n",
    "        x = torch.cat((x_disease, x_gene), dim=0) # stack the two latent feature matrices\n",
    "        \n",
    "        x = F.relu(self.conv2(x, disease_gene_data.train_pos_edge_index)) # propogate features on training edges\n",
    "        x = self.conv3(x, disease_gene_data.train_pos_edge_index) # propogate features on training edges\n",
    "\n",
    "        # if we are predicting, then we don't know whether the edges are positive or negative, so they\n",
    "        # are all passed in under the pos_edge_index (even though they might be negative).\n",
    "        if predict:\n",
    "            total_edge_index = pos_edge_index\n",
    "        else:\n",
    "            assert len(neg_edge_index) != 0, \"training requires negative edges\"\n",
    "            total_edge_index = torch.cat([pos_edge_index, neg_edge_index], dim=-1) # concatenates pos and neg edges\n",
    "        \n",
    "        x_j = torch.index_select(x, 0, total_edge_index[0]) # set of node encodings at start of edges\n",
    "        x_i = torch.index_select(x, 0, total_edge_index[1]) # set of node encodings at end of edges\n",
    "        return torch.einsum(\"ef,ef->e\", x_i, x_j) # row wise dot product"
   ]
  },
  {
   "cell_type": "markdown",
   "metadata": {},
   "source": [
    "## Utility functions"
   ]
  },
  {
   "cell_type": "code",
   "execution_count": 13,
   "metadata": {},
   "outputs": [],
   "source": [
    "def get_link_labels(pos_edge_index, neg_edge_index):\n",
    "    link_labels = torch.zeros(pos_edge_index.size(1) +\n",
    "                              neg_edge_index.size(1)).float()\n",
    "    link_labels[:pos_edge_index.size(1)] = 1.\n",
    "    return link_labels"
   ]
  },
  {
   "cell_type": "code",
   "execution_count": 14,
   "metadata": {},
   "outputs": [],
   "source": [
    "def random_neg_edge_sample(disease_gene_edge_index, disease_nodes, gene_nodes, num_samples, print_adj_mask=False):\n",
    "    \"\"\"\n",
    "    adapted from Pytorch Geometric's train_test_split_edges function\n",
    "    \"\"\"\n",
    "    row, col = disease_gene_edge_index # the positive edges\n",
    "    mask = row < col # mask for edges in the upper triangle (those in the lower triangle are duplicates)\n",
    "    row, col = row[mask], col[mask]\n",
    "    \n",
    "    neg_adj_mask = torch.ones(len(disease_nodes), len(gene_nodes)+len(disease_nodes), dtype=torch.uint8).to(torch.bool)\n",
    "    neg_adj_mask[row, col] = 0 # remove positive edges\n",
    "    neg_adj_mask[0:len(disease_nodes), 0:len(disease_nodes)] = 0 # remove possible disease-disease links (gene-gene already not present)\n",
    "    \n",
    "    if print_adj_mask:\n",
    "        neg_adj_mask = neg_adj_mask[:, 519:]\n",
    "        plt.matshow(neg_adj_mask)\n",
    "        plt.xlabel(\"genes\")\n",
    "        plt.ylabel(\"diseases\")\n",
    "        plt.title(\"Disease vs Gene Space\", pad=30)\n",
    "        return\n",
    "\n",
    "    neg_row, neg_col = neg_adj_mask.nonzero().t() # COO format\n",
    "    perm = random.sample(range(neg_row.size(0)), num_samples) # get random indices\n",
    "    perm = torch.tensor(perm)\n",
    "    perm = perm.to(torch.long)\n",
    "    neg_row, neg_col = neg_row[perm], neg_col[perm] # get the row and cols from random indices\n",
    "    neg_edge_index = torch.stack((neg_row, neg_col))\n",
    "    \n",
    "    return neg_edge_index"
   ]
  },
  {
   "cell_type": "markdown",
   "metadata": {},
   "source": [
    "**Negative Sampling**\n",
    "\n",
    "Negative edge sampling is the process of selecting *negative* edges: hypothetical edges which *could* have been in the actual graph, but are not. Why? We need negative edges because we need to make sure our model doesn't misclassify them as positive edges.\n",
    "\n",
    "Below is the space from which negative edges are sampled. Yellow shows negative edges, while positive edges (edges that are actually in the disease gene graph) are shown in purple. The purple ones are off limits for negative sampling.\n",
    "\n",
    "The trend in the positive edges (purple, diagonal from top left to bottom right) is an artifact from how the genes are labeled, and has no effect on the random sampling of the negative (yellow) edges."
   ]
  },
  {
   "cell_type": "code",
   "execution_count": 15,
   "metadata": {},
   "outputs": [
    {
     "data": {
      "image/png": "[encoded data removed]",
      "text/plain": [
       "<Figure size 1152x144 with 1 Axes>"
      ]
     },
     "metadata": {
      "needs_background": "light"
     },
     "output_type": "display_data"
    }
   ],
   "source": [
    "random_neg_edge_sample(disease_gene_edge_index, disease_nodes, gene_nodes, 10, print_adj_mask=True)"
   ]
  },
  {
   "cell_type": "markdown",
   "metadata": {},
   "source": [
    "## Training and testing functions\n",
    "TODO: more functional style."
   ]
  },
  {
   "cell_type": "code",
   "execution_count": 16,
   "metadata": {},
   "outputs": [],
   "source": [
    "def train():\n",
    "    \"\"\"\n",
    "    Executes a single training cycle (epoch)\n",
    "    \"\"\"\n",
    "    model.train()\n",
    "    optimizer.zero_grad()\n",
    "\n",
    "    pos_edge_index = disease_gene_data.train_pos_edge_index\n",
    "    pos_edge_index = dropout_adj(pos_edge_index, p=.3)[0] # randomly dropout some edges\n",
    "    \n",
    "    # random negative edge sample\n",
    "    neg_edge_index = random_neg_edge_sample(disease_gene_edge_index, disease_nodes,gene_nodes, pos_edge_index.size(1))\n",
    "\n",
    "    link_logits = model(pos_edge_index, neg_edge_index)\n",
    "    link_labels = get_link_labels(pos_edge_index, neg_edge_index)\n",
    "\n",
    "    loss = F.binary_cross_entropy_with_logits(link_logits, link_labels)\n",
    "    loss.backward()\n",
    "    optimizer.step()\n",
    "\n",
    "    return loss"
   ]
  },
  {
   "cell_type": "code",
   "execution_count": 17,
   "metadata": {},
   "outputs": [],
   "source": [
    "def test(testing_set=\"val\"):\n",
    "    \"\"\"\n",
    "    Tests the model on the specified data set (\"val\" or \"test\"), returning the F1 score\n",
    "    \"\"\"\n",
    "    model.eval()\n",
    "    \n",
    "    pos_edge_index, neg_edge_index = [index for _, index in\\\n",
    "                                      disease_gene_data(\"{}_pos_edge_index\".format(testing_set), \n",
    "                                                        \"{}_neg_edge_index\".format(testing_set))]\n",
    "    \n",
    "    link_probs = torch.sigmoid(model(pos_edge_index, neg_edge_index))\n",
    "    link_labels = get_link_labels(pos_edge_index, neg_edge_index)\n",
    "    link_probs = link_probs.detach().numpy()\n",
    "    link_labels = link_labels.detach().numpy()\n",
    "    \n",
    "    link_preds = (link_probs > .5).astype(int)\n",
    "    \n",
    "    return f1_score(link_labels, link_preds)"
   ]
  },
  {
   "cell_type": "code",
   "execution_count": 18,
   "metadata": {},
   "outputs": [],
   "source": [
    "def predict(edge_index):\n",
    "    \"\"\"\n",
    "    Makes predictions on a set of edges\n",
    "    \"\"\"\n",
    "    model.eval()\n",
    "    \n",
    "    link_probs = torch.sigmoid(model(edge_index, predict=True))\n",
    "    link_probs = link_probs.detach().numpy()\n",
    "    link_preds = (link_probs > .5).astype(int)\n",
    "    return link_preds"
   ]
  },
  {
   "cell_type": "markdown",
   "metadata": {},
   "source": [
    "## Train the model"
   ]
  },
  {
   "cell_type": "code",
   "execution_count": 19,
   "metadata": {},
   "outputs": [],
   "source": [
    "model = Net()\n",
    "optimizer = torch.optim.Adam(params=model.parameters())"
   ]
  },
  {
   "cell_type": "code",
   "execution_count": 20,
   "metadata": {
    "scrolled": true
   },
   "outputs": [
    {
     "name": "stdout",
     "output_type": "stream",
     "text": [
      "Epoch: 001, Loss: 0.6909, Val F1: 0.6667\n",
      "Epoch: 002, Loss: 0.6862, Val F1: 0.6667\n",
      "Epoch: 003, Loss: 0.6791, Val F1: 0.6667\n",
      "Epoch: 004, Loss: 0.6697, Val F1: 0.6667\n"
     ]
    }
   ],
   "source": [
    "val_f1s = []\n",
    "for epoch in range(1, 5):\n",
    "    train_loss = train()\n",
    "    val_f1 = test()\n",
    "    val_f1s.append(val_f1)\n",
    "    \n",
    "    log = 'Epoch: {:03d}, Loss: {:.4f}, Val F1: {:.4f}'\n",
    "    print(log.format(epoch, train_loss, val_f1))"
   ]
  },
  {
   "cell_type": "markdown",
   "metadata": {},
   "source": [
    "### Visualizing model output"
   ]
  },
  {
   "cell_type": "code",
   "execution_count": 21,
   "metadata": {},
   "outputs": [
    {
     "name": "stdout",
     "output_type": "stream",
     "text": [
      "F1 score: 0.6666666666666666\n"
     ]
    }
   ],
   "source": [
    "print(\"F1 score:\", test(\"test\"))"
   ]
  },
  {
   "cell_type": "code",
   "execution_count": 22,
   "metadata": {},
   "outputs": [
    {
     "data": {
      "image/png": "[encoded data removed]",
      "text/plain": [
       "<Figure size 864x504 with 1 Axes>"
      ]
     },
     "metadata": {
      "needs_background": "light"
     },
     "output_type": "display_data"
    }
   ],
   "source": [
    "plt.figure(figsize=(12, 7))\n",
    "plt.plot(val_f1s)\n",
    "plt.title(\"Epoch vs Validation F1 Score\", fontsize=18)\n",
    "plt.xlabel(\"Epoch\", fontsize=14)\n",
    "plt.ylabel(\"F1 score\", fontsize=14);\n",
    "# plt.savefig(\"Epoch vs F1.png\", dpi=200)"
   ]
  },
  {
   "cell_type": "code",
   "execution_count": 23,
   "metadata": {},
   "outputs": [
    {
     "data": {
      "text/plain": [
       "array([[   0, 2135],\n",
       "       [   0, 2135]])"
      ]
     },
     "execution_count": 23,
     "metadata": {},
     "output_type": "execute_result"
    }
   ],
   "source": [
    "# confusion matrix\n",
    "to_test = torch.cat([disease_gene_data.test_pos_edge_index, disease_gene_data.test_neg_edge_index], dim=-1)\n",
    "labels = [1 for idx in range(len(disease_gene_data.test_pos_edge_index[0]))]\\\n",
    "       + [0 for idx in range(len(disease_gene_data.test_neg_edge_index[0]))]\n",
    "\n",
    "preds = predict(to_test)\n",
    "confusion_matrix(labels, preds)"
   ]
  },
  {
   "cell_type": "code",
   "execution_count": 24,
   "metadata": {},
   "outputs": [],
   "source": [
    "# seperate outputs by true class \n",
    "link_probs = torch.sigmoid(model(disease_gene_data.test_pos_edge_index, disease_gene_data.test_neg_edge_index))\n",
    "link_probs = link_probs.detach().numpy()\n",
    "\n",
    "pos_link_probs = link_probs[:len(disease_gene_data.test_pos_edge_index[0])]\n",
    "neg_link_probs = link_probs[len(disease_gene_data.test_pos_edge_index[0]):]\n",
    "\n",
    "probs = np.array([pos_link_probs, neg_link_probs]).T"
   ]
  },
  {
   "cell_type": "code",
   "execution_count": 25,
   "metadata": {},
   "outputs": [
    {
     "data": {
      "image/png": "[encoded data removed]",
      "text/plain": [
       "<Figure size 864x504 with 1 Axes>"
      ]
     },
     "metadata": {
      "needs_background": "light"
     },
     "output_type": "display_data"
    }
   ],
   "source": [
    "plt.figure(figsize=(12,7))\n",
    "plt.hist(probs, density=True, color=[\"olivedrab\", \"orange\"], label=[\"positive edges\", \"negative edges\"])\n",
    "plt.title(\"Test Set Model Output Histogram\", fontsize=18)\n",
    "plt.xlabel(\"model output\", fontsize=14)\n",
    "plt.ylabel(\"probability density\", fontsize=14)\n",
    "plt.legend(fontsize=12);\n",
    "plt.tight_layout()\n",
    "# plt.savefig(\"test_prob_hist.png\", dpi=200)"
   ]
  },
  {
   "cell_type": "markdown",
   "metadata": {},
   "source": [
    "# Analysis\n",
    "\n",
    "For the most part, the model learns to output high probabilities for positive edges and low probabilities for negative edges. However it has some trouble with false negatives (green bar on the far left of the histogram above). It tends to predict very confidently that a small subset of the positive edges are actually negative. This is a problem in the context of searching for new drugs, because if researchers ignore some potentially positive associations between genes and diseases, then those genes will never be targeted for further study. This is a good starting point for future work to improve the model.\n",
    "\n",
    "This proof-of-concept model performs surprising well for using just clinical description TF-IDF word vectors as features. Adding more features could significantly improve the predictions. Some ideas for other features:\n",
    "- disease ontology\n",
    "- gene expression data"
   ]
  },
  {
   "cell_type": "code",
   "execution_count": null,
   "metadata": {},
   "outputs": [],
   "source": []
  }
 ],
 "metadata": {
  "kernelspec": {
   "display_name": "Python 3",
   "language": "python",
   "name": "python3"
  },
  "language_info": {
   "codemirror_mode": {
    "name": "ipython",
    "version": 3
   },
   "file_extension": ".py",
   "mimetype": "text/x-python",
   "name": "python",
   "nbconvert_exporter": "python",
   "pygments_lexer": "ipython3",
   "version": "3.8.2"
  }
 },
 "nbformat": 4,
 "nbformat_minor": 4
}
