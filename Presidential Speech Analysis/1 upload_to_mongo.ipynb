{
 "cells": [
  {
   "cell_type": "markdown",
   "metadata": {},
   "source": [
    "## Putting data into MongoDB in AWS"
   ]
  },
  {
   "cell_type": "code",
   "execution_count": 10,
   "metadata": {},
   "outputs": [],
   "source": [
    "import requests\n",
    "from urllib.request import urlopen\n",
    "from zipfile import ZipFile\n",
    "from io import BytesIO\n",
    "\n",
    "from pymongo import MongoClient\n",
    "\n",
    "import os\n",
    "import sys\n",
    "\n",
    "import re\n",
    "\n",
    "from datetime import datetime"
   ]
  },
  {
   "cell_type": "markdown",
   "metadata": {},
   "source": [
    "## Download the data"
   ]
  },
  {
   "cell_type": "code",
   "execution_count": 24,
   "metadata": {},
   "outputs": [],
   "source": [
    "zipurl = \"http://www.thegrammarlab.com/?wpdmpro=corpus-of-presidential-speeches&wpdmdl=595&refresh=5ec70e29da09f1590103593\"\n",
    "zipurl2 = \"http://www.thegrammarlab.com/?wpdmpro=clintontrump-corpus&wpdmdl=597&refresh=5ec70e03344501590103555\""
   ]
  },
  {
   "cell_type": "code",
   "execution_count": 26,
   "metadata": {},
   "outputs": [],
   "source": [
    "def save_zip(zipurl, name):\n",
    "    with urlopen(zipurl) as zipresp:\n",
    "        with ZipFile(BytesIO(zipresp.read())) as zfile:\n",
    "            zfile.extractall(name)"
   ]
  },
  {
   "cell_type": "code",
   "execution_count": 27,
   "metadata": {},
   "outputs": [],
   "source": [
    "save_zip(zipurl, \"speeches\")\n",
    "save_zip(zipurl2, \"trump_clinton_speeches\")"
   ]
  },
  {
   "cell_type": "code",
   "execution_count": 29,
   "metadata": {},
   "outputs": [],
   "source": [
    "!cp -r \"trump_clinton_speeches/Clinton-Trump Corpus/Trump\" \"speeches/Corpus of Presential Speeches/\"\n",
    "!rm -r \"trump_clinton_speeches/\""
   ]
  },
  {
   "cell_type": "markdown",
   "metadata": {},
   "source": [
    "## Upload to Mongo"
   ]
  },
  {
   "cell_type": "code",
   "execution_count": 15,
   "metadata": {},
   "outputs": [
    {
     "data": {
      "text/plain": [
       "['speeches']"
      ]
     },
     "execution_count": 15,
     "metadata": {},
     "output_type": "execute_result"
    }
   ],
   "source": [
    "config = {\n",
    "    'host': '13.56.124.215:27017',\n",
    "    'username': 'fisher',\n",
    "    'password': 'mongoPassword',\n",
    "    'authSource': 'speeches'\n",
    "}\n",
    "\n",
    "client = MongoClient(**config)\n",
    "db = client.speeches\n",
    "\n",
    "db.list_collection_names() # check the connection"
   ]
  },
  {
   "cell_type": "code",
   "execution_count": 16,
   "metadata": {
    "collapsed": true
   },
   "outputs": [
    {
     "data": {
      "text/plain": [
       "{'_id': ObjectId('5ec4c64db0366fe6fd550001'),\n",
       " 'speaker': 'coolidge',\n",
       " 'title': 'Address at the Opening of Work on Mount Rushmore in Black Hills, SD',\n",
       " 'date': datetime.datetime(1927, 8, 10, 0, 0),\n",
       " 'content': 'We have come here to dedicate a cornerstone that was laid by the hand of the Almighty. On this towering wall of Rushmore, in the heart of the Black Hills, is to be inscribed a memorial which will represent some of the outstanding features of four of our Presidents, laid on by the hand of a great artist in sculpture. This memorial will crown the height of land between the Rocky Mountains and the Atlantic Seaboard, where coming generations may view it for all time.\\nIt is but natural that such a design should begin with George Washington, for with him begins that which is truly characteristic of America. He represents our independence, our Constitution, our liberty. He formed the highest aspirations that were entertained by any people into the permanent institutions of our Government. He stands as the foremost disciple of ordered liberty, a statesman with an inspired vision who is not outranked by any mortal greatness.\\nNext to him will come Thomas Jefferson, whose wisdom insured that the Government which Washington had formed should be entrusted to the administration of the people. He emphasized the element of self-government which had been enshrined in American institutions in such a way as to demonstrate that it was practical and would be permanent. In him was likewise embodied the spirit of expansion. Recognizing the destiny of this Country, he added to its territory. By removing the possibility of any powerful opposition from a neighboring state, he gave new guaranties to the rule of the people.\\nAfter our country had been established, enlarged from sea to sea, and was dedicated to popular government, the next great task was to demonstrate the permanency of our Union and to extend the principle of freedom to all inhabitants of our land. The master of this supreme accomplishment was Abraham Lincoln. Above all other national figures, he holds the love of his fellow countrymen. The work which Washington and Jefferson began, he extended to its logical conclusions.\\nThat the principles for which these three men stood might be still more firmly established destiny raised up Theodore Roosevelt. To political freedom he strove to add economic freedom. By building the Panama Canal he brought into closer relationship the east and the west and realized the vision that inspired Columbus in his search for a new passage to the Orient.\\nThe union of these four Presidents carved on the face of the everlasting hills of South Dakota will constitute a distinctly national monument. It will be decidedly American in conception, in its magnitude, in its meaning and altogether worthy of our Country. No one can look upon it understandingly without realizing that it is a picture of hope fulfilled. Its location will be significant. Here in the heart of the continent, on the side of a mountain which probably no white man had ever beheld in the days of Washington, in territory which was acquired by the action of Jefferson, which remained an unbroken wilderness beyond the days of Lincoln, which was especially beloved by Roosevelt, the people of the future will see history and art combined to portray the spirit of patriotism. They will know that the figure of these Presidents has been placed here because by following the truth they built for eternity. The fundamental principles which they represented have been wrought into the very being of our Country. They are steadfast as these ancient hills.\\nOther people have marveled at the growth and strength of America. They have wondered how a few weak and discordant colonies were able to win their independence from one of the greatest powers of the world. They have been amazed at our genius for self-government. They have been unable to comprehend how the shock of a great Civil War did not destroy our Union. They do not understand the economic progress of our people. It is true that we have had the advantage of great natural resources, but those have not been exclusively ours. Others have been equally fortunate in that direction. The progress of America has been due to the spirit of the people. It is in no small degree due to that spirit that we have been able to produce such great leaders. If coming generations are to maintain a like spirit, it will be because they continue to support the principles which these men represented. It is for that purpose that we erect memorials. We can not hold our admiration for the historic figures which we shall see here without growing stronger in our determination to perpetuate the institutions which their lives revealed and established.\\nThe fact that this enterprise is being begun in one of our new states not yet great in population, not largely developed in its resources, discloses that the old American spirit still goes where our people go, still dominates their lives, still inspires them to deeds of devotion and sacrifice. It is but another illustration of the determination of our people to use their material resources to minister to their spiritual life. This memorial will be another national shrine to which future generations will repair to declare their continuing allegiance to independence, to self-government, to freedom and to economic justice. It is an inspiring phase of American life that men are willing to devote their energies to the erection of a memorial of this nature. Money spent for such a purpose is certain of adequate returns in the nature of increased public welfare.\\nThe people of South Dakota are taking the lead in the preparation of this memorial out of their meager resources, because the American spirit is strong among them. Their effort and courage entitles them to the sympathy and support of private beneficence and the national government. They realize fully that they have no means of succeeding in the development of their state except a strong reliance upon American institutions. They do not fail to appreciate their value. There is no power that can stay the progress of such a people. They are predestined to success. Our Country is fortunate in having the advantage of their citizenship. They have been pioneers in the development of their State. They will continue to be pioneers in the defense and development of American institutions.\\n'}"
      ]
     },
     "execution_count": 16,
     "metadata": {},
     "output_type": "execute_result"
    }
   ],
   "source": [
    "db.speeches.find_one()"
   ]
  },
  {
   "cell_type": "code",
   "execution_count": 30,
   "metadata": {},
   "outputs": [
    {
     "data": {
      "text/plain": [
       "{'nIndexesWas': 1, 'ns': 'speeches.speeches', 'ok': 1.0}"
      ]
     },
     "execution_count": 30,
     "metadata": {},
     "output_type": "execute_result"
    }
   ],
   "source": [
    "# db.drop_collection(\"speeches\")"
   ]
  },
  {
   "cell_type": "code",
   "execution_count": 18,
   "metadata": {},
   "outputs": [],
   "source": [
    "def get_title(line):\n",
    "    \"\"\"\n",
    "    gets the title from a string of format title=\"[title]\"\n",
    "    \"\"\"\n",
    "    assert line.count('\"') == 2, \"unexpected number of quote characters (expected 2): {}\".format(line)\n",
    "    start_quote_idx = line.find('\"')\n",
    "    end_quote_idx = line.rfind('\"')\n",
    "    txt = line[start_quote_idx+1 : end_quote_idx]\n",
    "    return txt"
   ]
  },
  {
   "cell_type": "code",
   "execution_count": 19,
   "metadata": {},
   "outputs": [],
   "source": [
    "def get_date(line):\n",
    "    \"\"\"\n",
    "    gets the date from a string\n",
    "    \"\"\"\n",
    "    date_re = r\"([a-zA-Z]+ \\d{1,2}, \\d{4}|\\d{4}-\\d{2}-\\d{2})\"\n",
    "    date = re.findall(date_re, line)[0]\n",
    "    # two date formats are used in the dataset...\n",
    "    try:\n",
    "        date = datetime.strptime(date, \"%B %d, %Y\")\n",
    "    except:\n",
    "        date = datetime.strptime(date, \"%Y-%m-%d\")\n",
    "    return date"
   ]
  },
  {
   "cell_type": "code",
   "execution_count": 31,
   "metadata": {
    "scrolled": true
   },
   "outputs": [
    {
     "name": "stdout",
     "output_type": "stream",
     "text": [
      "loading coolidge's speeches\n",
      "loading tyler's speeches\n",
      "loading wilson's speeches\n",
      "loading ford's speeches\n",
      "loading pierce's speeches\n",
      "loading lincoln's speeches\n",
      "loading washington's speeches\n",
      "loading reagan's speeches\n",
      "loading hoover's speeches\n",
      "loading jefferson's speeches\n",
      "loading bharrison's speeches\n",
      "loading monroe's speeches\n",
      "loading carter's speeches\n",
      "loading taft's speeches\n",
      "loading madison's speeches\n",
      "loading roosevelt's speeches\n",
      "loading eisenhower's speeches\n",
      "loading buchanan's speeches\n",
      "loading lbjohnson's speeches\n",
      "loading adams's speeches\n",
      "loading arthur's speeches\n",
      "loading fillmore's speeches\n",
      "loading kennedy's speeches\n",
      "loading fdroosevelt's speeches\n",
      "loading hayes's speeches\n",
      "loading obama's speeches\n",
      "loading bush's speeches\n",
      "loading johnson's speeches\n",
      "loading cleveland's speeches\n",
      "loading nixon's speeches\n",
      "loading harrison's speeches\n",
      "loading taylor's speeches\n",
      "loading clinton's speeches\n",
      "loading trump's speeches\n",
      "loading truman's speeches\n",
      "loading gwbush's speeches\n",
      "loading garfield's speeches\n",
      "loading harding's speeches\n",
      "loading mckinley's speeches\n",
      "loading vanburen's speeches\n",
      "loading polk's speeches\n",
      "loading grant's speeches\n",
      "loading jqadams's speeches\n",
      "loading jackson's speeches\n"
     ]
    }
   ],
   "source": [
    "path = \"speeches/Corpus of Presential Speeches\"\n",
    "for pres in os.listdir(path):\n",
    "    if pres == \".DS_Store\":\n",
    "        continue\n",
    "    print(\"loading {}'s speeches\".format(pres.lower()))\n",
    "    speeches_dir = os.path.join(path, pres)\n",
    "    for speech_file in os.listdir(speeches_dir):\n",
    "        speech = {\"speaker\": pres.lower()}\n",
    "        speech_file_path = os.path.join(path, pres, speech_file)\n",
    "        with open(speech_file_path, \"r\") as f:\n",
    "            \n",
    "            # files have irregular format for the starting lines.\n",
    "            # read lines until the date line has been parsed\n",
    "            while \"date\" not in speech.keys():\n",
    "                line = f.readline()\n",
    "                if \"title\" in line or \"date\" in line: # if this is the date or title line\n",
    "                    if \"title\" in speech.keys(): # if we already have the title, get the date\n",
    "#                        try:\n",
    "                        date = get_date(line)\n",
    "                        speech[\"date\"] = date\n",
    "#                        except: print(\"parsing date failed for line: {}\".format(line))\n",
    "                    else: # if we haven't gotten the title yet\n",
    "                        speech[\"title\"] = get_title(line) # title\n",
    "                \n",
    "            speech[\"content\"] = f.read() # read remaining text\n",
    "        db.speeches.insert_one(speech)"
   ]
  },
  {
   "cell_type": "code",
   "execution_count": 32,
   "metadata": {
    "scrolled": true
   },
   "outputs": [
    {
     "data": {
      "text/plain": [
       "{'_id': ObjectId('5ec71104fc4ce11ff2e0d195'),\n",
       " 'speaker': 'trump',\n",
       " 'title': 'Donald Trump, Republican Presidential Candidate, delivers remarks at a campaign event in Ambridge, Pennsylvania (SD/24)',\n",
       " 'date': datetime.datetime(2016, 10, 10, 0, 0),\n",
       " 'content': '<TRUMP:> Thank you. Thank you. Thank you. And we love Big Ben. Big Ben\\'s a friend. <APPLAUSE> We play golf together. He once hit a shot that went head <ph> right into a tree. It was a massive tree like this. The ball hit the tree so hard, I swear I said, Ben, within two years, that\\'s tree\\'s going to be dead. And you know what? Two years later, he\\'s shooting the same. It\\'s because we have <inaudible> here. <LAUGHTER> But two years later, that tree was dead. <LAUGHTER> He is a strong guy, and he\\'s good guy too. Big Ben. <APPLAUSE> So I\\'m thrilled to be back in Pennsylvania. Great place. I went to school in Pennsylvania. November 8th, we\\'re going to win this state and we\\'re going to win back the White House. <APPLAUSE> We\\'re going to take on the special interests, the corrupt media -- and it is corrupt -- and the career politicians that have stolen your jobs, your wealth and stolen our middle class. They\\'ve stolen our middle class. We\\'re going to make Pennsylvania rich again by bringing back our jobs. We\\'ll bring back our jobs. <APPLAUSE> And Hillary Clinton doesn\\'t have a clue about how to bring back jobs, that I can tell you <inaudible>. She doesn\\'t have a clue. If she wanted to, she couldn\\'t do it. You know, in New York state, she ran for the Senate. And you know what, the state New York is a disaster for jobs. And she said, \"I\\'m going to bring back 200,000 jobs.\" Guess what? Right down the tubes, worse today than ever before. How many have watched the debate last night? <APPLAUSE> Good <inaudible>. We had a lot of fun. And I would say that Hillary is highly overrated. <APPLAUSE> It was fun watching <inaudible>. I mean, most of us <inaudible> unanimous decisions. But some of these people, they were so pain -- it was like a painful experience. But we\\'re fighting for you, so what\\'s good for me is good for you. And I mean that totally 100 percent. <APPLAUSE> And we\\'re going to talk about a lot of things today, but I always want you to remember this above all else. We\\'re going to bring back the jobs to Pennsylvania. We\\'re going to bring back steel. Your steel has been stolen from you in this area. <APPLAUSE> Natural gas, the EPA is killing you and killing your companies and you\\'re losing your jobs. Let me tell you, that\\'s going to turned around on day one if I win. On day one. Your jobs are coming back to Pennsylvania, and they\\'re coming back to this area. And that means we\\'re going to take care of our steel workers and we\\'re going to take care of our miners, believe me. I\\'m going to take care of you. <APPLAUSE> We laid out a goal, uplifting vision for America. Lower taxes, better trade deals -- I\\'ll give you a purse <ph>. <LAUGHTER> And millions and millions of new jobs. But all crooked Hillary can do was talk about small, petty things last night. During the course of 90 minutes, she was exposed and her values were exposed. She had no defense. All she could do was lie. She lied so much last night. They don\\'t like to catch her on the lies. I explained how Hillary Clinton oversaw the disasters in Libya, including the drawing of the infamous red line. Remember she said, oh, I had nothing -- well, it turned out she was there, by the way. Remember, she said she wasn\\'t there? <BOOING> The red line was actually drawn in August of 2012. No, she was there. She lied about it. She said she wasn\\'t involved in that catastrophe. But that was just one of many. Of course, the moderators didn\\'t call her out and they didn\\'t call out this lie that she told. Hillary Clinton said she didn\\'t delete her e-mails after a congressional subpoena. But she did. That was another lie. That was a hard one to believe. How did she say no to that one? The subpoena -- well, the subpoena was sent on March 4, 2015. Crooked Hillary\\'s e-mails were bleached and destroyed. Now, nobody bleaches them. You know what? Bleaching is so expensive. It\\'s really a very expensive process. But when you bleach them, it pretty much means they\\'re gone. Although I\\'ve always heard you can\\'t get rid of e-mails. I\\'ve been told you can\\'t. I wonder if the NSA has her e-mails, do you think?\\n<AUDIENCE: Yeah!>\\n<TRUMP:> Do you think? I don\\'t think they looked too hard for her e-mails. What do you think, folks? Do you think -- I don\\'t know.\\n<AUDIENCE: Lock her up!>\\n<TRUMP:> I\\'ll tell you, I bet -- I don\\'t know this for a fact, but I\\'ll bet within the FBI -- you know, you have some of the greatest Americans in the world that are so proud of the FBI -- and I\\'ll bet you they are sick to their stomachs at what\\'s happening. Sick to their stomachs. <APPLAUSE> Anyway, her e-mails were destroyed somewhere between March 25th and March 31st after the congressional subpoena was received. You know, if you are suing somebody privately and they delete and get rid of all your stuff that you subpoena, you got a very big consequence. You know what the consequence is, right? Here\\'s -- here\\'s the United States Congress -- United States Congress subpoenaing to see e-mails and other things and they\\'re gone. And now, by the way, did you read yesterday? Two boxes of e-mails and materials are now missing.\\n<AUDIENCE: Lock her up! Lock her up! Lock her up!>\\n<TRUMP:> Very, very sad. Special prosecutor, here we come, right? <APPLAUSE> If I win, we\\'re going to appoint a special prosecutor because we cannot allow this to happen to our country. We can\\'t. We\\'re like a third world nation. Hillary had no defense for her contract <ph> and didn\\'t even try to defend the ridiculous <inaudible> that these were 30,000 e-mails about yoga and wedding planning. <BOOING> Let\\'s see. You have 30,000 -- 33,000 e-mails deleted, right? I would bet she had three for yoga and maybe five for the wedding, right? What about the rest? She had no defense when I brought up her failures in Iraq, Syria and Libya. She had no defense when I brought up her failures as a senator from New York promising to create the 200,000 jobs for upstate New York. But instead, the jobs were shipped to Mexico and other countries. She had no defense for calling on millions of Americans and then saying that they were deplorable -- that\\'s you, deplorable. That\\'s me, it\\'s all of us. And you know what\\'s worse? Irredeemable. I don\\'t know, which is worse? Would you rather be deplorable? Irredeemable means you have no chance, right? We\\'re deplorable and irredeemable. I don\\'t think so. I think we have the greatest people on Earth. The smartest people. <APPLAUSE> We have the smartest. We have the most loyal people. That\\'s one thing every poll points out that, boy, Trump\\'s people, it\\'s like the most loyal ever. <APPLAUSE> And one thing I know, we\\'re going to get out and vote and we\\'re going to be voting. And you remember the primaries. Donald Trump is behind, voting begins tomorrow, should be very interesting, but it looks like Mr. Trump will not be able to win this state, but he\\'s put up a good fight. Next day, Donald Trump wins by 22 points. Everyone... <APPLAUSE> Crazy deal. Mr. Brexit, Mr. Brexit. Remember I said Brexit\\'s going to happen because I have a lot of property over there. Brexit\\'s going to happen. They all laughed. They said Donald Trump said that Brexit\\'s going to happen. Isn\\'t he ridiculous? Anyway, three days later, they vote, Brexit happens. They never say anything. They never said anything.\\n<TRUMP:> But that\\'s all right. This is like Brexit, folks. You watch. We want our independence back. We want our borders strong. We don\\'t want people coming in from Syria that we have no idea who the hell they are. <APPLAUSE> As I said last night -- and I mean this -- she\\'s got hatred in her heart. She wants to divide America. I want to bring us together as one people. <APPLAUSE> And by the way, we have thousands and thousands of people outside. You know, that, right? Do you know how lucky you are? Do you know how lucky you are? <APPLAUSE> And I guess they\\'re not allowing them in. I don\\'t know why because there\\'s thousands of people. Where is the fire marshal? Let some more people come in, I see some seats over there. Let some people -- fire marshal, we need your help. <APPLAUSE> Where\\'s our fire marshal? Let them come in. We\\'ve got 3,000 or 4,000 people standing out there. See, I guess they figure you folks are taking the seats in the very back. We ought to let some more people come in. <APPLAUSE> I always get a kick -- I mean, I know a lot about fire and fire marshals, but you have a room with four walls and a roof and nothing to burn. Let the people in. <APPLAUSE> Hillary also had no defense for Obamacare, which is a total disaster. I\\'m going to repeal and replace your disastrous Obamacare. Much cheaper, much better. <APPLAUSE> Hillary had no defense for her secret speeches to Wall Street and international banks that she hid from the public and which were exposed by Wikileaks. And by the way, just as I\\'m walking on the stage, Mayor Giuliani said you\\'re not going to believe this, look at this, we have all of these new charges. You see it just came down today. Wikileaks, some new stuff, some brutal stuff. I mean, I\\'d read it to you, but to hell with it, just trust me. It\\'s real bad stuff. <APPLAUSE> The speech transcripts contain scandalous revelations about Hillary Clinton that disqualify her from seeking public office. <APPLAUSE> And she is. She\\'s disqualified just on the fact that she did that with her e-mails. Think of it; deleting 33,000 -- think of it. How can you do it? These transcripts also shine a spotlight on how this corrupt establishment works, where politicians meet in secret with the big banks, collect massive sums of money, then betray the American worker, which is you and me and sort of all of us, we\\'re all workers. We\\'re all working, we just work differently. You know, I tell this to people. We have people in this room right now that made more money 18 years ago than they\\'re making now. They work a lot harder right now than they did 18 years ago. Their job was better 18 years ago and they\\'re older. And the only thing I say is I\\'m older also, and I\\'ve never worked this hard either, folks, I will tell you. That\\'s for sure. <APPLAUSE> My campaign is powered by my money and also small donations from millions of visitors to our website who just want their country back. They want America back. <APPLAUSE> Last night, I asked Hillary Clinton why she doesn\\'t take some of the hundreds of millions of dollars that she made <ph> -- so I\\'ll over $100 million into the campaign of my money. Is that smart or is that stupid?\\n<AUDIENCE: Smart!>\\n<TRUMP:> Take some of the money she made selling favors to special interest and invest them in her campaign, instead of having to rely on even more corporate donations. She looked like, oh my god, why did he bring this up? She had no answer. She was flabbergasted, I can tell you. In the secret speeches released by WikiLeaks, this is yesterday and the day before, Hillary -- not as good as today, buy the way -- Hillary Clinton -- but I say that because the press will try not to pick them up because they try and protect her. I\\'ll tell you what, the only thing she\\'s got going in the media. Without the media, she would not have a chance. <APPLAUSE> Hillary Clinton told her Wall Street donors that you need to have a public position and a private position. In other words, you need to be dishonest to run for office. In other words, have one for the public and one for the people that are giving you the money. Right? And that is very much right in that whole thing. I mean, it\\'s crazy. How did Hillary Clinton try to defend this shocking admission? She did not deny -- she said this awful thing. Instead she blamed honest Abe Incon <ph>. Honest Abe! <BOOING> So Hillary Clinton for lying, blamed Abe Lincoln, commonly known as honest Abe. He\\'s spinning in his grave. The speeches also show that crooked Hillary supports cutting Medicare and Social Security benefits, one more example of how Hillary Clinton\\'s public position is a lie. She wants to knock the hell out of your Social Security, she wants to knock the hell out of your Medicare/Medicaid. And I\\'m going to save them, OK? This is a little reversal for the Democrat/Republican, but I am going to save them <ph> because we\\'re going to make -- we\\'re going to make our country rich again. We\\'re going to bring back our jobs. We\\'re going to make good trade deals. <APPLAUSE> We\\'re going to have countries that we are defending all over the world pay a little bit more money, if that is OK. <APPLAUSE> Which, in all fairness, until I came along, you never even heard about that. Right? And then when I say that they say, oh, Trump does not want to defend Japan. No, I\\'d love to defend, but let them pay a little more money, right, isn\\'t that good? We\\'re dying <ph>, we\\'re going to have $20 trillion in debt, $20 trillion. So some of these countries that we do such a good job for, where we defend them -- and we love doing it, but they got to help us out a little bit. Right? Most shockingly, these speeches show Hillary Clinton saying, quote, my dream is a hemispheric common market <ph>with open trade -- you know what that does to your community? That\\'s the end. And open borders! <BOOING> In other words, she wants the United States to surrender to global governance <ph> with no controls over trade or immigration. Great. Can you imagine? Seriously. Can you imagine? She\\'s saying she\\'s for NAFTA, which she was. You know, her husband signed NAFTA. But she\\'s also for Trans-Pacific Partnership By the way, NAFTA is the worst trade deal ever made in the history -- not of this country, but of the world. What it\\'s done to Pennsylvania and Ohio and update New York and New England. Poor New England, what it\\'s done to New England. So she\\'s for radical, unlimited immigration. In other words, people are going to pour in <ph>, but that\\'s what she\\'s for. I\\'m building a wall and she\\'s for, like, come on across. Slight difference. <APPLAUSE> A slight difference. We\\'re going to build a wall. Who is going to pay for the wall?\\n<AUDIENCE: Mexico!>\\n<TRUMP:> By the way, they may not know it yet, but I think they\\'re getting the idea. But when you think of it, she wants to have people pour across. Now, the border patrol agents, 16,500, endorsed me recently. And last week... <APPLAUSE> Never endorsed a presidential candidate before in long history. And last week, ICE endorsed. ICE is -- these are great people. These are people that want to do their jobs, but they\\'re told to stand back, don\\'t do your job. These are great people. You know, it\\'d be a lot easier for them if they didn\\'t endorse me because they could just take it nice and easy. But they want -- so, we got ICE, we have the border patrol agents, we have Sheriff Joe from Arizona. We love Sheriff... <APPLAUSE> And Hillary Clinton\\'s got nothing. So she wants people to pour across the borders. She wants thousands and thousands of people to come in from Syria. I mean, 550 percent more than our President Obama. <BOOING> A Trump administration will completely renegotiate NAFTA or we will walk away and make a brand-new deal that\\'s far better where actually businesses start coming to Pennsylvania and to Ohio. <APPLAUSE> Unbelievable. And we will stop the disastrous Trans-Pacific Partnership, which would be almost as bad as NAFTA. Nothing could be as bad. But we\\'ll stop it. And we\\'ll make deals. But this is a complex deal with many countries. You have to see the arrows all over the place. Once you sign it, it\\'s 5,000 pages, more than that long. Once you sign it, it\\'s a mess. I like free trade. We make one deal, two deals, three -- we make it with individual countries, and if they don\\'t behave, we terminate them. We send them what\\'s called a notification of termination. <APPLAUSE> But that will never happen because during that 30-day period, we\\'ll renegotiate a better deal for our country, OK? And you the other way, you can\\'t terminate. There\\'s too many -- it\\'s -- people go crazy. You have to be like a grand chessmaster, and we don\\'t have any of them. Hillary Clinton\\'s radical call for open borders, meaning anyone in the world can enter the United States without any limit at all, would end the United States as we know it today. <BOOING> No one who supports open borders should be able to run for president because we won\\'t have a country. <APPLAUSE> And by the way, weeks ago, I called out Hillary Clinton for supporting open borders and the media said I was wrong. Now, I\\'ve been proven right. Where is the media rushing to correct these false stories? Because in the Wikileaks, it was all about open borders, free trade for everybody. See, I like free trade, but we want smart trade. It\\'s got to be -- it shouldn\\'t even be called free trade, it should be called smart trade. I don\\'t like the term free trade. <APPLAUSE> Because free trade, to have it really work, you need really, really smart people negotiating your details. And all these other countries have smart people. For them, it\\'s important. For us, we have people, they don\\'t know what they\\'re doing. \\n<TRUMP:> No less than Bernie Sanders declared that open borders would be the end of America. Bernie Sanders said open borders means there would be no United States, doing away with the concept of nation-state. Sanders also explained how open borders would make everybody in America poorer by radically reducing wages. Maybe that\\'s OK with him. Not OK with me. By the way, how many ways can Hillary Clinton betray Bernie Sanders? She really has betrayed him. I mean, look, even if we don\\'t agree with him, I mean -- you know, Bernie Sanders would have been a legend. He would have gone down as a legendary figure in history if he didn\\'t make the deal with the devil. But he made the deal with her and now he\\'s just another guy. <APPLAUSE> She attacked his supporters as basement dwellers, she admitted in secret she\\'s in favor of entitlement cuts and she\\'s for open borders and open trade. Your state has lost one in three manufacturing jobs. Since Bill and Hillary Clinton\\'s NAFTA and China deals happened. I\\'m going to stop foreign cheating, the product dumping, which by the way, is killing your steel industry, and in this case has already killed much of your steel industry. How many people agree with me that China -- because this is such a big steel area, or was -- we\\'re gonna bring it back, don\\'t worry about it. But how many people agree with me that China had so much to do and stupid politicians with the killing of the steel industry in the state of Pennsylvania? <APPLAUSE> Between that and currency manipulation, which they do like grand masters and we do like we\\'re playing bad games of checkers, we\\'re going to start making things in America again. And we\\'re going to start making things in Pennsylvania again. Don\\'t let them tell you you\\'re doing well because you\\'re doing lousy. <APPLAUSE> Pennsylvania steel will build our future and Pennsylvania energy -- our miners, we\\'re bringing our miners back -- will power our future. <APPLAUSE> Congressman, get up there, will you? Do we know our Congressman? Look at this guy. I tell you, they say he was a hell of a <ph> football player. They say he was -- I don\\'t know if he\\'d be so good today. Would you be good today? I don\\'t know. But he has been such an incredible supporter, and so great, and he\\'s standing next to my daughter Tiffany who came today. <APPLAUSE> Thank you, Congressman. Thank you. We have such great support in these areas. That includes, though, clean coal, shale oil and natural gas we have to protect. Pennsylvania workers will be hired to do the job. Hillary Clinton would rather give your jobs to people that pour into the country illegally. I explained how she favors a 550 percent increase in Syrian refugees coming into our land. We have nothing -- we know nothing about them. And by the way, we all have hearts. We know what\\'s going on. It\\'s horrible. When you look at Syria, when you look at the migration. We\\'ll build safe zones and we\\'ll get others to pay, like the Gulf states. They have nothing but money and they\\'re not putting up their fair share. They have nothing but money. They\\'ll pay. And we\\'ll lead it, but they\\'ll pay. <APPLAUSE> I also exposed how Hillary Clinton is personally responsible for the release of thousands of dangerous criminal aliens into the United States. As secretary of State, Hillary Clinton refused to make foreign countries take back their own criminal aliens by canceling visas, a duty vested in her by the law. And I must tell you, she refused to use forceful diplomatic action. So we\\'ll have a killer, and he\\'ll be from another country, let\\'s say someplace in South America, and we\\'ll catch him because our ICE people are great and our border patrol people are amazing, so we\\'ll catch him. And what happens is we\\'ll want to bring him back to whatever country that person comes from. This could be a killer, a drug dealer, somebody else, a gang member, the head of a gang. Hillary Clinton would say, \"We can\\'t force him back into that country.\" The hell we can\\'t. <APPLAUSE> I guarantee you that under my administration, there will not be one bad guy that is not forced back into his country. Not one. There won\\'t be any. You won\\'t be reading about it. We will put such pressure on those countries to take these people back. But Hillary Clinton did say -- I\\'m sorry Madam Secretary, if you can believe this. This was prior to her naps <ph>. I\\'m sorry, Madam Secretary. But they won\\'t take this killer back. \"Oh, that\\'s OK. Well, bring him back and let him out on our streets.\" And you know what happens, right? The Remembrance Project. You know what that is, right? The Remembrance -- these are the most incredible mothers and fathers and sisters and brothers who have lost their loved ones to killers, to killers, illegal immigrants that killed their loved ones. And it\\'s a sad thing to see, that I can tell you. Her refusal to take such diplomatic action has caused the release of thousands of criminals into our community. One foreign national and convicted killer who should have been sent back to his home country in 2012 was instead set free by Clinton\\'s watch. Six months after his release, he killed again, murdering a 25-year old beautiful Casey Chadwick. You probably heard about it. In just one single year of Hillary Clinton\\'s tenure, 2010, nearly 4,000 convicted criminal aliens were released into American communities because their home countries just said, \"No, we\\'re not taking them back. We\\'re not taking them back. Yes, we\\'re supposed to legally. We\\'re not doing it.\" So we took them. Another revelation from those secret speeches is that Hillary Clinton knew that the State Department and their devices were under threat of hacking, and yet she traveled overseas with her totally insecure telephone. Remember the ones that she banged the hell out of when she wanted to get get rid of <ph>... <LAUGHTER> \"No I wasn\\'t trying to <inaudible>.\" Who banged their phones. When you throw your cell phones, does anybody bang them with a hammer? This is still more evidence that she lied to the FBI, just like she lied to Congress. And she lied to us. One more very important issue where I exposed the hypocrisy of Hillary Clinton, and the media, was on Hillary Clinton\\'s treatment of women. I was getting beaten up for 72 hours on all the networks for inappropriate words 12 years ago. Locker room talk, whatever you want to call it. But I said to myself, wait a minute. And I just saw a very inappropriate words, but Bill Clinton sexually assaulted innocent women and Hillary Clinton attacked those women viciously. One of them said more viciously than he attacked them. If they want to release more tapes saying inappropriate things, we\\'ll continue to talk about Bill and Hillary Clinton doing inappropriate things. There are so many of them, folks. You probably saw yesterday we brought four wonderful women to St. Louis. <APPLAUSE> And honestly, it was both very beautiful and very sad. They really -- they\\'ve been trying to get their feelings out for so long and the media wouldn\\'t take it. One thing with me, the media takes it. Whatever. So they were able to get what they wanted to get out. To quote Juanita Broaddrick, \"Hillary Clinton threatened me after Bill Clinton raped me.\" She\\'s been struggling to get the media to pay attention to her for many, many years. So last night, I decided we would expose the hypocrisy of the Clintons and the media and our politicians to the entire world. <APPLAUSE> As I outlined last night, Bill Clinton was the worst abuser of women ever to sit in the Oval Office. He was a predator. Hillary Clinton systematically attacked and discredited the victims of Bill Clinton\\'s sexual harassment and assault. These things aren\\'t written by the media, but they\\'re true. Written by many books. These victims include names like Kathleen Willey, Juanita Broaddrick, Paula Jones, Connie Hamzy, Eileen Wellstone, Sandra Allen James and Cristy Zercher. And there are many, many more. For decades, Hillary Clinton has been deeply familiar with her husband\\'s predatory behavior, and instead of trying to stop it, she made it possible for him to take advantage of even more women. She put even more women in harm\\'s way and then she goes out and says, \"I love women. I\\'m going to help women. I\\'m gonna help women.\" She\\'s a total hypocrite. The hypocrisy of the media and our politicians is hard to believe. They condemn my words, but they ignore and defend the -- and this is the way it is -- the reprehensible actions of Hillary and Bill Clinton that have destroyed and hurt so many lives. But perhaps the greatest window into the character of Hillary Clinton can be found in what she did as a lawyer when she was defending a man who raped a 12-year-old little girl. <BOOING> Desperate to win her case, Hillary Clinton blamed the 12-year-old victim. Her name was Kathleen Shelton. She was with us yesterday. She was right sitting front row at the debate. As the lawyer for the rapist, Hillary Clinton said the little girl was emotionally unstable and had a quote, \"tendency to seek out older men and engage in fantasizing.\" This is -- Hillary ruined that little girl\\'s life, destroyed her life, then years later she was recorded laughing about it on videotape. She was laughing at the girl. There\\'s nothing Hillary Clinton won\\'t do or say to obtain power, and it\\'s about time people started to understand that. <APPLAUSE> But the hypocrites in the media don\\'t want to talk about what Hillary Clinton has done to these victims. They don\\'t want to talk about what their other political heroes have done to other innocent girls and women. People like Kennedy, Chappaquiddick. We remember that. Driving his car into a pond instead of calling the police, possibly saving her life. In fact, almost definitely being able to save her life. He went home and went to sleep. Did not report the incident to the police for 10 hours, yet he was hailed as a hero.\\n<TRUMP:> The last 72 hours has framed what this election is all about. It\\'s about the American people fighting back against corrupt politicians who don\\'t care about anything except staying in power and keeping their donors happy. <APPLAUSE> What I want to say to every American right now is that I accept the mantle of this responsibility for all of us, for all of us. <APPLAUSE> We have an absolute incredible situation taking place, folks. And I will never stop fighting for you against the Washington establishment that has betrayed each and every one of you, betrayed the country. Our government has lost its virtue. Right now, it\\'s just about protecting the powerful, and you know what I mean. And I know it better than anybody else. And I\\'m doing this because I just think it\\'s so damn unfair. <APPLAUSE> And it\\'s ultimately going to lead to the destruction of our country. And we\\'re doing it. The Clintons have corrupted our government at the very highest levels. Rank and file -- incredible people by the way, incredible people -- rank and file FBI agents are shocked at the corruption that they\\'re witnessing at levels of the FBI that nobody would have thought it was possible. The Department of Justice, where Bill Clinton gets into the back of an airplane for 39 minutes just prior to a determination being made. Of course, you and I know the determination was made a long time ago. But gets on with the attorney general because he happened to be in Arizona playing gold. It was 110 degrees out, right? Nobody saw him on the golf course. Just happened to be there. Oh, there\\'s the attorney general. Let me get back on the plane. So they spend 39 minutes in the back of the plane. They talked about two things; golf and grandchildren. Thirty-nine minutes. So I give the grandchildren five minutes, I give the golf three minutes, right? What else do you think might have been talked about? They can\\'t believe, these FBI people, these people for life in the FBI -- these are people that are unbelievable people. They love this country so much. And they\\'re seeing things that they\\'ve never seen before where guilty, guilty, guilty, guilty, no charge, no problem. They see all of this stuff going on and these people much be sick to their stomachs. What have we seen in the e-mail scandal? What have we seen in third-world-level corruption? This is really what it is. It\\'s third-world -- we\\'re like in a third-world country right now. And this November is our one chance, November 8th, our one chance to save our country. It\\'s the last chance we\\'re going to have, folks. <APPLAUSE> I\\'ve traveled around this country talking about change. But my travels, the places I\\'ve been, the people I\\'ve met, they\\'ve also changed me. I\\'m not proud of everything that I\\'ve done in life. I mean, who among us is? Is anybody totally proud of every single element? Some we are. But let me tell you what I\\'m very proud of. I\\'m proud that I\\'ve always treated the blue collar worker -- and I consider myself in a certain way to be a blue collar worker -- that make this country run with tremendous respect. The waiters and waitresses, the cops and firefighters, the receptionist and the custodians, we treat them with dignity and respect. These are great people. These are great people. <APPLAUSE> And our police and law enforcement officials, we have to be thankful for them because they have done an amazing job. <APPLAUSE> I\\'m proud of the tens of thousands of jobs that I\\'ve created and I\\'m proud that I provide equal play and equal pay for equal work. And I have to do that, I have to do that. I\\'ve promoted women to the highest positions in my companies over the years and they have done an incredible job. I\\'m proud of our unbelievable movement, because that\\'s what we have is a movement. Men and women who only want a better future for their children. That\\'s what they want, that\\'s what we want. <APPLAUSE> I know that if my father and my mother were alive today, they would be very, very proud of me and they\\'d be proud of everybody in this room and all of the other stadiums and all of the other rooms that we\\'re in. We have the greatest people in the world. The greatest people. And we are going to make America great again. And it\\'s going to happen fast too, I can tell you. <APPLAUSE> My parents knew what was in my heart. They would know the love that I have for all the hardworking people in this country and the love that I have for my country itself. I\\'m glad that I have the chance today to open my heart to all of you and tell you how much I want to make our country so much better, so much stronger, so much safer, so much wealthier. We have to do all of those things. A woman came up to me and said, Mr. Trump, please, sir, leave out wealthy; it doesn\\'t sound good. I said, can I use rich instead? Rich. No, no, that doesn\\'t sound good. I said, here\\'s the problem, countries all over the world are ripping off the United States. They\\'re taking our wealth, they\\'re taking our jobs, they\\'re taking our future. We have no choice. We want to save our Social Security and our Medicare and our Medicaid. We want to save our wealth. We want to keep our taxes as low as possible. Right now, they\\'re far too high. Our taxes are going to be cut massively by me, if I get in. And Hillary\\'s going to raise taxes. <APPLAUSE> Our regulations, which are killing our companies, are going to be cut massively by me. And I\\'ll tell you what. You look at your energy companies, your natural gas, your coal companies, your steel companies, they can\\'t do business, they can\\'t compete with the rest of the world because the regulations are so horrible and so massive. So we\\'re going to cut taxes. Hillary\\'s going to raise taxes. We\\'re going to cut taxes big league for the middle class, big league for business. We\\'re going to grow again. Companies aren\\'t going to be leaving our shores. They\\'re not going to be leaving us for Mexico and other places. We\\'re going to have companies coming back and new companies being formed. It\\'s going to happen very quickly. <APPLAUSE> My whole life I\\'ve been a fighter, and now I\\'m going to fight for you. We\\'re going to fight. <APPLAUSE> We\\'re going to bring back our military. You know, our military needs enhancement. It\\'s so depleted. We\\'re going to fight for our veterans who are being horribly mistreated, not taken care of properly. In many cases, illegal immigrants are being taken care of much better than our veterans. <APPLAUSE> We\\'re going to fight for our Second Amendment, which is under siege. <APPLAUSE> We\\'re going to take care of that one easily. We\\'re going to fight to have Supreme Court justices that believe in our Constitution appointed to the Supreme Court. <APPLAUSE> We\\'re going to fight for all of our businesses, but we\\'re going to fight for the steel businesses that have been taken away from us. We\\'re going to fight from those -- for those miners whose jobs have been <inaudible>. You know, when I was in West Virginia, I met incredible people and a lot of miners. And I said to them, did you ever think of maybe moving to another area and going into another profession?\\n<AUDIENCE: Hell no!>\\n<TRUMP:> They said, Mr. Trump -- just like she goes, hell no. <LAUGHTER> But just like -- it\\'s just like that. They say, Mr. Trump, we love being miners, we love mining. Our grandparents did it, our great parents -- grandparents did it, our fathers. We love mining. And I realized the love that they had for mining. And as you remember, weeks before Hillary Clinton made a statement someplace else before going to West Virginia and trying to get their vote, if you can believe this, she said we are going to close the mines and we\\'re going to put the miners out of work. Then she went to West Virginia and she tried to convince them, well, she didn\\'t mean it. Let me tell you, folks, we\\'re going to take care of our mines, we\\'re going to take care of our miners. We\\'re going to have clean coal, clean coal, we\\'re going to have them. But we\\'re going to bring back our <inaudible>. <APPLAUSE> And we\\'re going to protect a great new resource, something that really over the last fairly short period of time, from an energy standpoint, has become so important, and something so important to this area; natural gas. So we are going to keep our people working and we\\'re going to have a lot more people working. We are going to get rid of Obamacare. We are going to get rid of Common Core. We\\'re going to bring our education local. <APPLAUSE> We are going to make great and lasting trade deals, not the horrible trade deals. This year on trade, we will have almost an $800 billion trade deficit. Think of it. Who negotiates these deals? Who\\'s negotiating? In other words, countrywide. With China, we\\'re going to lose almost $500 billion. But think of this, countrywide we do all this work. We\\'re going to have a trade deficit of $800 almost billion. It\\'s not going to happen anymore, folks. It\\'s not going to happen anymore. <APPLAUSE> We\\'re going to trade -- we\\'re going to trade, but I say we\\'re going to now have a two-lane. You now, we have a one -- we have a one-lane superhighway going into Mexico, right? You know that. Hello.\\n<AUDIENCE: Hi!>\\n<TRUMP:> We have a one-lane highway going into Mexico. We\\'re going to make it maybe for a little while, to get some of it back, a one-lane highway coming back. But ultimately, it\\'s going to be like this. We want to be fair. We\\'re going to bring Pennsylvania steel and manufacturing back. We\\'re going to unleash trillions in new energy, and we\\'re going to put our miners back to work. We\\'re going to protect our hunters and save our Second Amendment. <APPLAUSE> Hillary Clinton wants to do big, big damage, big, big damage to the Second Amendment. We\\'re going to fix your schools and your inner cities and reduce crime and poverty and joblessness. And we\\'re going to liberate millions of African-Americans and Hispanic Americans from poverty. What they\\'re going through is unbelievable. <APPLAUSE> We\\'re going to make Pennsylvania and Ohio, and so many other places within our country, the manufacturing hub of the world once again. We\\'re going to be able to do it. It\\'s going to be not even hard to do. But to do these things, we must push aside the politicians and the special interests who have betrayed us. They\\'ve betrayed us. So this year, we have an election coming up on November 8th. So important that you get out and vote. So important that you watch other communities, because we don\\'t want this election stolen from us. We don\\'t want this election stolen from us. We do not want this election stolen. We have a movement like they\\'ve never seen before. Bill O\\'Reilly and others have said this is the single greatest phenomena they\\'ve ever seen. We have a movement like no other. We\\'re going to make that movement incredible. And what we\\'re going to end up with is this: a country that\\'s not divided, a country that loves itself and loves its people. <APPLAUSE> We\\'re going to make a country where people are proud to come in, people are proud to come through the borders, people want to come through because they respect us and they respect our values. We are going to make a country that\\'s wealthy again. We\\'re going to make a country that\\'s safe again. We\\'re going to make a country that know what it\\'s doing and -- and functions on common sense again -- functions on common sense. <APPLAUSE> Our future is in our hands. On November 8th, you\\'re going to look back and you\\'re going to say I believe, years from now, that was the most important day and the most important vote that you have ever cast because we\\'re going to turn our country around, we\\'re going to take back our country, we\\'re going to take back the White House. <APPLAUSE> We are going to work so hard and we are going to make America great again. <APPLAUSE> Thank you. Thank you very much. Thank you, everybody.'}"
      ]
     },
     "execution_count": 32,
     "metadata": {},
     "output_type": "execute_result"
    }
   ],
   "source": [
    "db.speeches.find_one({\"speaker\": \"trump\"})"
   ]
  },
  {
   "cell_type": "code",
   "execution_count": null,
   "metadata": {},
   "outputs": [],
   "source": []
  }
 ],
 "metadata": {
  "kernelspec": {
   "display_name": "Python [conda env:metis] *",
   "language": "python",
   "name": "conda-env-metis-py"
  },
  "language_info": {
   "codemirror_mode": {
    "name": "ipython",
    "version": 3
   },
   "file_extension": ".py",
   "mimetype": "text/x-python",
   "name": "python",
   "nbconvert_exporter": "python",
   "pygments_lexer": "ipython3",
   "version": "3.7.7"
  }
 },
 "nbformat": 4,
 "nbformat_minor": 4
}
